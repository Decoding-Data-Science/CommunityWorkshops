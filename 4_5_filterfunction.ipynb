{
  "cells": [
    {
      "cell_type": "markdown",
      "metadata": {
        "id": "view-in-github",
        "colab_type": "text"
      },
      "source": [
        "<a href=\"https://colab.research.google.com/github/Decoding-Data-Science/CommunityWorkshops/blob/main/4_5_filterfunction.ipynb\" target=\"_parent\"><img src=\"https://colab.research.google.com/assets/colab-badge.svg\" alt=\"Open In Colab\"/></a>"
      ]
    },
    {
      "cell_type": "markdown",
      "metadata": {
        "id": "_55nFs_i4Ubb"
      },
      "source": [
        "##### The filter() Function in Python\n",
        "The filter() function constructs an iterator from elements of an iterable for which a function returns true. It is used to filter out items from a list (or any other iterable) based on a condition."
      ]
    },
    {
      "cell_type": "code",
      "execution_count": 1,
      "metadata": {
        "id": "QAkYVSwv4Ube"
      },
      "outputs": [],
      "source": [
        "def even(num):\n",
        "    if num%2==0:\n",
        "        return True"
      ]
    },
    {
      "cell_type": "code",
      "execution_count": 2,
      "metadata": {
        "colab": {
          "base_uri": "https://localhost:8080/"
        },
        "id": "jkvS5jG84Ubg",
        "outputId": "dccfccdf-a54c-4431-ec72-7108099700d6"
      },
      "outputs": [
        {
          "output_type": "execute_result",
          "data": {
            "text/plain": [
              "True"
            ]
          },
          "metadata": {},
          "execution_count": 2
        }
      ],
      "source": [
        "even(24)"
      ]
    },
    {
      "cell_type": "code",
      "execution_count": 3,
      "metadata": {
        "id": "JYBV2nW94Ubh"
      },
      "outputs": [],
      "source": [
        "lst = [1,2,3,4,5,6,7,8,9,10,11,12]"
      ]
    },
    {
      "cell_type": "code",
      "execution_count": 4,
      "metadata": {
        "colab": {
          "base_uri": "https://localhost:8080/"
        },
        "id": "laCluv4z4Ubi",
        "outputId": "520b8efa-64bc-4586-d7a6-271056044048"
      },
      "outputs": [
        {
          "output_type": "execute_result",
          "data": {
            "text/plain": [
              "[1, 2, 3, 4, 5, 6, 7, 8, 9, 10, 11, 12]"
            ]
          },
          "metadata": {},
          "execution_count": 4
        }
      ],
      "source": [
        "lst"
      ]
    },
    {
      "cell_type": "code",
      "execution_count": 5,
      "metadata": {
        "colab": {
          "base_uri": "https://localhost:8080/"
        },
        "id": "FIIZx_LP4Ubi",
        "outputId": "98699f2e-b46f-438d-cb6b-0ec7d5a90492"
      },
      "outputs": [
        {
          "output_type": "execute_result",
          "data": {
            "text/plain": [
              "[2, 4, 6, 8, 10, 12]"
            ]
          },
          "metadata": {},
          "execution_count": 5
        }
      ],
      "source": [
        "list(filter(even,lst))"
      ]
    },
    {
      "cell_type": "code",
      "execution_count": 7,
      "metadata": {
        "colab": {
          "base_uri": "https://localhost:8080/"
        },
        "id": "xA8J56ls4Ubj",
        "outputId": "b867b790-44ac-4c4a-a9cd-fea7263f810f"
      },
      "outputs": [
        {
          "output_type": "stream",
          "name": "stdout",
          "text": [
            "[6, 7, 8, 9, 10, 11, 12]\n"
          ]
        }
      ],
      "source": [
        "##filter with lamda\n",
        "number = [1,2,3,4,5,6,7,8,9,10,11,12]\n",
        "greater_than_five = list(filter(lambda x: x > 5, number))\n",
        "print(greater_than_five)"
      ]
    },
    {
      "cell_type": "code",
      "source": [
        "#filter with lambda function and multiple condition\n",
        "number = [1,2,3,4,5,6,7,8,9,10,11,12]\n",
        "even_and_greater_than_five = list(filter(lambda x: x > 5 and x % 2 == 0 , number))\n",
        "print(even_and_greater_than_five)\n"
      ],
      "metadata": {
        "colab": {
          "base_uri": "https://localhost:8080/"
        },
        "id": "H-kpSasE63NF",
        "outputId": "32bdf679-5ac2-4cf8-c289-a4bdd56584ed"
      },
      "execution_count": 8,
      "outputs": [
        {
          "output_type": "stream",
          "name": "stdout",
          "text": [
            "[6, 8, 10, 12]\n"
          ]
        }
      ]
    },
    {
      "cell_type": "code",
      "source": [
        "#filter to check if age is greater than 25 in disctionary\n",
        "\n",
        "people = [\n",
        "    {'name': 'John', 'age': 25},\n",
        "    {'name': 'Jane', 'age': 30},\n",
        "    {'name': 'Alice', 'age': 20}\n",
        "]\n",
        "\n",
        "def age_greater_than_25(person):\n",
        "    return person['age'] > 25\n",
        "\n",
        "adults = list(filter(age_greater_than_25, people))\n",
        "print(adults)"
      ],
      "metadata": {
        "colab": {
          "base_uri": "https://localhost:8080/"
        },
        "id": "6uxyHo347crd",
        "outputId": "eee56dab-f6f3-4563-91e0-c7977fe8bffe"
      },
      "execution_count": 9,
      "outputs": [
        {
          "output_type": "stream",
          "name": "stdout",
          "text": [
            "[{'name': 'Jane', 'age': 30}]\n"
          ]
        }
      ]
    },
    {
      "cell_type": "markdown",
      "metadata": {
        "id": "Xzqy-8pA4Ubj"
      },
      "source": [
        "##### Conclusion\n",
        "The filter() function is a powerful tool for creating iterators that filter items out of an iterable based on a function. It is commonly used for data cleaning, filtering objects, and removing unwanted elements from lists. By mastering filter(), you can write more concise and efficient code for processing and manipulating collections in Python."
      ]
    },
    {
      "cell_type": "markdown",
      "metadata": {
        "id": "8JUDOnSo4Ubk"
      },
      "source": []
    },
    {
      "cell_type": "code",
      "execution_count": null,
      "metadata": {
        "id": "7DKJf2_b4Ubk"
      },
      "outputs": [],
      "source": []
    },
    {
      "cell_type": "code",
      "execution_count": null,
      "metadata": {
        "id": "xcD1c9Ht4Ubk"
      },
      "outputs": [],
      "source": []
    },
    {
      "cell_type": "code",
      "execution_count": null,
      "metadata": {
        "id": "sWNEGSOc4Ubk"
      },
      "outputs": [],
      "source": []
    },
    {
      "cell_type": "code",
      "execution_count": null,
      "metadata": {
        "id": "psUVj5wG4Ubl"
      },
      "outputs": [],
      "source": []
    }
  ],
  "metadata": {
    "kernelspec": {
      "display_name": "Python 3",
      "language": "python",
      "name": "python3"
    },
    "language_info": {
      "codemirror_mode": {
        "name": "ipython",
        "version": 3
      },
      "file_extension": ".py",
      "mimetype": "text/x-python",
      "name": "python",
      "nbconvert_exporter": "python",
      "pygments_lexer": "ipython3",
      "version": "3.12.0"
    },
    "colab": {
      "provenance": [],
      "include_colab_link": true
    }
  },
  "nbformat": 4,
  "nbformat_minor": 0
}